{
 "metadata": {
  "name": "",
  "signature": "sha256:09b1bb7a5e9884c286bc4df7ce0bf28e796e7676ff588975c4c77ddd9095e9b8"
 },
 "nbformat": 3,
 "nbformat_minor": 0,
 "worksheets": [
  {
   "cells": [
    {
     "cell_type": "code",
     "collapsed": false,
     "input": [
      "%matplotlib inline\n",
      "import spicedham\n",
      "import matplotlib.pyplot as plt\n",
      "x = range(1000)\n",
      "y = [xx**2 for xx in x]\n",
      "\n",
      "plt.plot(x, y)\n",
      "\n",
      "\n"
     ],
     "language": "python",
     "metadata": {},
     "outputs": [
      {
       "metadata": {},
       "output_type": "pyout",
       "prompt_number": 22,
       "text": [
        "[<matplotlib.lines.Line2D at 0x1120f5590>]"
       ]
      },
      {
       "metadata": {},
       "output_type": "display_data",
       "png": "[encoded data removed]",
       "text": [
        "<matplotlib.figure.Figure at 0x111ee6bd0>"
       ]
      }
     ],
     "prompt_number": 22
    },
    {
     "cell_type": "markdown",
     "metadata": {},
     "source": [
      "$$x=\\sqrt{2}$$"
     ]
    },
    {
     "cell_type": "markdown",
     "metadata": {},
     "source": [
      "Using a Naive Bayesian Classifier to Reduce Spam in Mozilla SUMO Projects\n",
      "=========================================================================\n",
      "Spam comes from two primary sources, bots and people.  \n",
      "Fooling bots is surprisingly easy. Other projects, such as the marketplace have had success with invisible inputs in forms. If the bot changes the input, then the report is rejected. Input doesn't use this, but it could.\n",
      "Preventing human spam is harder. You can throttle responses, but that's not terribly effective either.\n",
      "My idea is to have machine learning classify spam messages. I propose using a Naive Bayesian Classifier.\n",
      "\n",
      "What is a Bayes Theorem?\n",
      "------------------------\n",
      "Bayes Theorem is the cornerstone of modern statistics. Bayes Theorem relies on using prior knowledge to update a belief about a probability. A Bayesian approach is probabilistic, we determine what the probability that a message is spam.  \n",
      "\n",
      "Bayes Theorem states:  \n",
      "$$p(a|b) = \\frac{p(b|a) \\cdot p(a)}{p(b)}$$\n",
      "This is read \"The probability of $a$ given be is the probability of $b$ given $a$ times the probability of $a$ over the probability of $b$.\"\n",
      "The $p(a|b)$, is the intersection of the probabilities, that is $p(a) \\cap p(b)$. Note $p(a|b) \\neq p(b|a)$.\n",
      "\n",
      "\n",
      "Say there are 100 words used in some number of messages. 20 of these words are in spam messages. A word $w$ appears in a message which is known to be spam 3 times, and it also appears in a meassage known to be ham (that is, a legitimate message that is not spam) 1 time. We can use Bayes theorem to determine whether that message is spam.\n",
      "<table>\n",
      "<tr> <th>      </th> <th>Spam</th> <th> Ham </th> <th>Total</th> </tr>\n",
      "<tr> <th>Totals  </th> <td> 20 </td> <td> 80  </td> <td> 100 </td> </tr>\n",
      "<tr> <th>Word $w$</th> <td> 3  </td> <td> 1   </td> <td> 4   </td> </tr>\n",
      "</table>\n",
      "\n",
      "\n",
      "\n",
      "\n",
      "First let's rephrase Bayes theorem in terms of this example.\n",
      "$$p(\\mathrm{Spam} | w) = \\frac{p(w | \\mathrm{Spam}) \\cdot p(\\mathrm{Spam})}{p(w)}$$\n",
      "\n",
      "To calculate the probability of $w$, $p(w)$, Take $\\frac{\\mathrm{occurences of } w}{\\mathrm{total number of words}}$, which is  $\\frac{3}{100}$ or $0.03$.\n",
      "\n",
      "To calculate the probability of Spam we do something very similar. $\\frac{\\mathrm{occurences of Spam}}{\\mathrm{total number of words}}$, which is  $\\frac{20}{100}$ or $0.20$.\n",
      "\n",
      "\n",
      "Calculating the probability of $w$ given Spam is again similar.  $\\frac{\\mathrm{occurences of }w}{\\mathrm{total number of Spam}}$, which is  $\\frac{3}{20}$ or $0.15$.\n",
      "\n",
      "Put all of this together and you get: \n",
      "$$p(\\mathrm{Spam} | w) = \\frac{0.15 \\cdot 0.20}{0.03} = 1$$\n",
      "Note that this isn't our final probability. We need to determine the ratio of the probability that the word is spam over the probability that the word is ham. In other words:\n",
      "$$\\frac{p(\\mathrm{Spam}|w)}{p(\\mathrm{Ham}|w)}$$\n",
      "Calculating $p(\\mathrm{Ham}|w)$ is very similar, and we get \n",
      "\n",
      "How do we use Bayes Theorem to classify spam?\n",
      "---------------------------------------------\n",
      "By examining the probability of a word's occurrence in spam and ham messages we can determine whether\n",
      "\n",
      "Pros for this type of classifier:\n",
      "Cons for this type of classifier:\n",
      "Some statistics about the effectiveness of the current implementation:\n",
      "What happens when we train it one API data which it classified as spam?\n",
      "What leaks through?\n",
      "\n",
      "Alternatives to a Naive Bayesian Classifier\n",
      "-------------------------------------------\n",
      "\n"
     ]
    },
    {
     "cell_type": "code",
     "collapsed": false,
     "input": [
      "x = 5"
     ],
     "language": "python",
     "metadata": {},
     "outputs": [],
     "prompt_number": 2
    },
    {
     "cell_type": "code",
     "collapsed": false,
     "input": [],
     "language": "python",
     "metadata": {},
     "outputs": [
      {
       "output_type": "stream",
       "stream": "stderr",
       "text": [
        "ERROR: Cell magic `%%jinja` not found.\n"
       ]
      }
     ],
     "prompt_number": 3
    },
    {
     "cell_type": "code",
     "collapsed": false,
     "input": [],
     "language": "python",
     "metadata": {},
     "outputs": []
    }
   ],
   "metadata": {}
  }
 ]
}